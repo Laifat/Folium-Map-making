{
 "cells": [
  {
   "cell_type": "code",
   "execution_count": null,
   "id": "a6de83d7",
   "metadata": {},
   "outputs": [],
   "source": [
    "# import folium package\n",
    "import folium\n",
    " \n",
    "# Map method of folium return Map object\n",
    " \n",
    "# Here we pass coordinates of Gfg\n",
    "# and starting Zoom level = 12\n",
    "my_map1 = folium.Map(location = [22.28309896, 114.12882281],attr = '地政總署', tiles = \"https://mapapi.geodata.gov.hk/gs/api/v1.0.0/xyz/basemap/wgs84/{z}/{x}/{y}.png\", zoom_start = 15)\n",
    "folium.TileLayer(attr = '地政總署', tiles = \"https://mapapi.geodata.gov.hk/gs/api/v1.0.0/xyz/label/hk/tc/wgs84/{z}/{x}/{y}.png\", overlay=True,opacity = 1, control = False).add_to(my_map1)\n",
    "\n",
    "fg = folium.FeatureGroup(name=\"IFSC/ISC\",show=True).add_to(my_map1)\n",
    "for i, ifsc in enumerate (alllatlong):\n",
    "    icon=folium.Icon(color='pink', prefix=\"fa\", icon_color = \"white\",icon = \"circle\")\n",
    "    folium.Marker(location= ifsc, icon=icon, popup=folium.Popup(df[\"NAME_TC\"][i], parse_html=True, max_width=300)).add_to(fg)\n",
    "\n",
    "#fg1 = folium.FeatureGroup(name=\"BC\").add_to(my_map1)\n",
    "#for i, ifsc in enumerate (alllatlong1):\n",
    "    #icon=folium.Icon(color='green', prefix=\"fa\", icon_color = \"white\",icon = \"user\")\n",
    "   #folium.Marker(location= ifsc, icon=icon, popup=\"BC\").add_to(fg1)\n",
    "\n",
    "folium.LayerControl().add_to(my_map1)\n",
    "# save method of Map object will create a map\n",
    "display(my_map1)\n",
    "my_map1.save(\"IFSC.html\")"
   ]
  }
 ],
 "metadata": {
  "kernelspec": {
   "display_name": "Python 3 (ipykernel)",
   "language": "python",
   "name": "python3"
  },
  "language_info": {
   "codemirror_mode": {
    "name": "ipython",
    "version": 3
   },
   "file_extension": ".py",
   "mimetype": "text/x-python",
   "name": "python",
   "nbconvert_exporter": "python",
   "pygments_lexer": "ipython3",
   "version": "3.11.3"
  }
 },
 "nbformat": 4,
 "nbformat_minor": 5
}
